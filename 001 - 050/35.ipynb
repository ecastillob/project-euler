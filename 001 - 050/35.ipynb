{
 "cells": [
  {
   "cell_type": "markdown",
   "metadata": {},
   "source": [
    "# Python"
   ]
  },
  {
   "cell_type": "code",
   "execution_count": 1,
   "metadata": {},
   "outputs": [],
   "source": [
    "import sys"
   ]
  },
  {
   "cell_type": "code",
   "execution_count": 2,
   "metadata": {},
   "outputs": [],
   "source": [
    "def es_primo_simple(N):\n",
    "    es = True\n",
    "    extremo = (N // 2)+1\n",
    "    for i in range(3, extremo, 2):\n",
    "        if N % i == 0:\n",
    "            es = False\n",
    "            break\n",
    "    return es"
   ]
  },
  {
   "cell_type": "code",
   "execution_count": 3,
   "metadata": {},
   "outputs": [],
   "source": [
    "def rotar(N):\n",
    "    S = str(N)\n",
    "    return tuple(\n",
    "        int(S[index:] + S[0:index]) \n",
    "        for index in range(len(S)) \n",
    "    )"
   ]
  },
  {
   "cell_type": "code",
   "execution_count": 4,
   "metadata": {},
   "outputs": [],
   "source": [
    "def funcion1(N, mostrar=False):\n",
    "    primos = (2,) + tuple(i for i in range(3, N+1, 2) if es_primo_simple(i))\n",
    "    if mostrar:\n",
    "        print(\"n_primos: \", len(primos))\n",
    "        print(\"size of : \", sys.getsizeof(primos))\n",
    "    s = set(primos)\n",
    "    s2 = set()\n",
    "    for p in primos:\n",
    "        es = True\n",
    "        rotados = rotar(p)\n",
    "        for _ in rotados:\n",
    "            if _ not in s:\n",
    "                es = False\n",
    "                break\n",
    "        if es:\n",
    "            s2.add(p)\n",
    "    total = len(s2)\n",
    "    return total"
   ]
  },
  {
   "cell_type": "code",
   "execution_count": 5,
   "metadata": {},
   "outputs": [
    {
     "name": "stdout",
     "output_type": "stream",
     "text": [
      "n_primos:  25\n",
      "size of :  248\n",
      "CPU times: user 0 ns, sys: 1.49 ms, total: 1.49 ms\n",
      "Wall time: 1.26 ms\n"
     ]
    },
    {
     "data": {
      "text/plain": [
       "13"
      ]
     },
     "execution_count": 5,
     "metadata": {},
     "output_type": "execute_result"
    }
   ],
   "source": [
    "%%time\n",
    "funcion1(100, True)"
   ]
  },
  {
   "cell_type": "code",
   "execution_count": 6,
   "metadata": {},
   "outputs": [
    {
     "name": "stdout",
     "output_type": "stream",
     "text": [
      "n_primos:  168\n",
      "size of :  1392\n",
      "CPU times: user 2.02 ms, sys: 998 µs, total: 3.02 ms\n",
      "Wall time: 2.72 ms\n"
     ]
    },
    {
     "data": {
      "text/plain": [
       "25"
      ]
     },
     "execution_count": 6,
     "metadata": {},
     "output_type": "execute_result"
    }
   ],
   "source": [
    "%%time\n",
    "funcion1(1_000, True)"
   ]
  },
  {
   "cell_type": "code",
   "execution_count": 7,
   "metadata": {},
   "outputs": [
    {
     "name": "stdout",
     "output_type": "stream",
     "text": [
      "n_primos:  1229\n",
      "size of :  9880\n",
      "CPU times: user 95.4 ms, sys: 84 µs, total: 95.5 ms\n",
      "Wall time: 114 ms\n"
     ]
    },
    {
     "data": {
      "text/plain": [
       "33"
      ]
     },
     "execution_count": 7,
     "metadata": {},
     "output_type": "execute_result"
    }
   ],
   "source": [
    "%%time\n",
    "funcion1(10_000, True)"
   ]
  },
  {
   "cell_type": "code",
   "execution_count": 8,
   "metadata": {},
   "outputs": [
    {
     "name": "stdout",
     "output_type": "stream",
     "text": [
      "CPU times: user 7.43 s, sys: 94.3 ms, total: 7.53 s\n",
      "Wall time: 7.65 s\n"
     ]
    },
    {
     "data": {
      "text/plain": [
       "43"
      ]
     },
     "execution_count": 8,
     "metadata": {},
     "output_type": "execute_result"
    }
   ],
   "source": [
    "%%time\n",
    "funcion1(100_000)"
   ]
  },
  {
   "cell_type": "markdown",
   "metadata": {},
   "source": [
    "# cython"
   ]
  },
  {
   "cell_type": "code",
   "execution_count": 9,
   "metadata": {},
   "outputs": [],
   "source": [
    "%load_ext Cython"
   ]
  },
  {
   "cell_type": "code",
   "execution_count": 10,
   "metadata": {},
   "outputs": [],
   "source": [
    "%%cython --compile-args=-O3 --force\n",
    "\n",
    "from libc.math cimport sqrt\n",
    "from array import array\n",
    "from cpython cimport array as c_array\n",
    "cimport cython\n",
    "\n",
    "\n",
    "@cython.boundscheck(False) \n",
    "@cython.wraparound(False)\n",
    "cdef cy_es_primo_simple(unsigned int N):\n",
    "    cdef unsigned int extremo, i\n",
    "    es = True\n",
    "    extremo = (N // 2)+1\n",
    "    for i in range(3, extremo, 2):\n",
    "        if N % i == 0:\n",
    "            es = False\n",
    "            break\n",
    "    return es\n",
    "\n",
    "\n",
    "@cython.boundscheck(False) \n",
    "@cython.wraparound(False)\n",
    "def rotar(N):\n",
    "    S = str(N)\n",
    "    return tuple(\n",
    "        int(S[index:] + S[0:index]) \n",
    "        for index in range(len(S)) \n",
    "    )\n",
    "\n",
    "\n",
    "@cython.boundscheck(False) \n",
    "@cython.wraparound(False)\n",
    "cdef unsigned int cy_funcion1(unsigned int N):\n",
    "    cdef unsigned int i, p, v, total\n",
    "    primos = (2,) + tuple(i for i in range(3, N+1, 2) if cy_es_primo_simple(i))\n",
    "    s = set(primos)\n",
    "    s2 = set()\n",
    "    for p in primos:\n",
    "        es = True\n",
    "        rotados = rotar(p)\n",
    "        for v in rotados:\n",
    "            if v not in s:\n",
    "                es = False\n",
    "                break\n",
    "        if es:\n",
    "            s2.add(p)\n",
    "    total = len(s2)\n",
    "    return total\n",
    "\n",
    "\n",
    "def funcion1(N):\n",
    "    return cy_funcion1(N)"
   ]
  },
  {
   "cell_type": "code",
   "execution_count": 11,
   "metadata": {},
   "outputs": [
    {
     "name": "stdout",
     "output_type": "stream",
     "text": [
      "CPU times: user 166 µs, sys: 0 ns, total: 166 µs\n",
      "Wall time: 172 µs\n"
     ]
    },
    {
     "data": {
      "text/plain": [
       "13"
      ]
     },
     "execution_count": 11,
     "metadata": {},
     "output_type": "execute_result"
    }
   ],
   "source": [
    "%%time\n",
    "funcion1(100)"
   ]
  },
  {
   "cell_type": "code",
   "execution_count": 12,
   "metadata": {},
   "outputs": [
    {
     "name": "stdout",
     "output_type": "stream",
     "text": [
      "CPU times: user 7.14 ms, sys: 973 µs, total: 8.11 ms\n",
      "Wall time: 8.12 ms\n"
     ]
    },
    {
     "data": {
      "text/plain": [
       "33"
      ]
     },
     "execution_count": 12,
     "metadata": {},
     "output_type": "execute_result"
    }
   ],
   "source": [
    "%%time\n",
    "funcion1(10_000)"
   ]
  },
  {
   "cell_type": "code",
   "execution_count": 13,
   "metadata": {},
   "outputs": [
    {
     "name": "stdout",
     "output_type": "stream",
     "text": [
      "CPU times: user 400 ms, sys: 2.01 ms, total: 402 ms\n",
      "Wall time: 442 ms\n"
     ]
    },
    {
     "data": {
      "text/plain": [
       "43"
      ]
     },
     "execution_count": 13,
     "metadata": {},
     "output_type": "execute_result"
    }
   ],
   "source": [
    "%%time\n",
    "funcion1(100_000)"
   ]
  },
  {
   "cell_type": "code",
   "execution_count": 14,
   "metadata": {},
   "outputs": [
    {
     "name": "stdout",
     "output_type": "stream",
     "text": [
      "CPU times: user 1.34 s, sys: 8.09 ms, total: 1.34 s\n",
      "Wall time: 1.55 s\n"
     ]
    },
    {
     "data": {
      "text/plain": [
       "43"
      ]
     },
     "execution_count": 14,
     "metadata": {},
     "output_type": "execute_result"
    }
   ],
   "source": [
    "%%time\n",
    "funcion1(2*100_000)"
   ]
  },
  {
   "cell_type": "code",
   "execution_count": 15,
   "metadata": {},
   "outputs": [
    {
     "name": "stdout",
     "output_type": "stream",
     "text": [
      "CPU times: user 7.46 s, sys: 21.3 ms, total: 7.49 s\n",
      "Wall time: 7.58 s\n"
     ]
    },
    {
     "data": {
      "text/plain": [
       "43"
      ]
     },
     "execution_count": 15,
     "metadata": {},
     "output_type": "execute_result"
    }
   ],
   "source": [
    "%%time\n",
    "funcion1(5*100_000)"
   ]
  },
  {
   "cell_type": "code",
   "execution_count": 16,
   "metadata": {},
   "outputs": [
    {
     "name": "stdout",
     "output_type": "stream",
     "text": [
      "CPU times: user 28.4 s, sys: 86 ms, total: 28.5 s\n",
      "Wall time: 29.3 s\n"
     ]
    },
    {
     "data": {
      "text/plain": [
       "55"
      ]
     },
     "execution_count": 16,
     "metadata": {},
     "output_type": "execute_result"
    }
   ],
   "source": [
    "%%time\n",
    "funcion1(10*100_000)"
   ]
  },
  {
   "cell_type": "code",
   "execution_count": null,
   "metadata": {},
   "outputs": [],
   "source": []
  }
 ],
 "metadata": {
  "kernelspec": {
   "display_name": "Python 3",
   "language": "python",
   "name": "python3"
  },
  "language_info": {
   "codemirror_mode": {
    "name": "ipython",
    "version": 3
   },
   "file_extension": ".py",
   "mimetype": "text/x-python",
   "name": "python",
   "nbconvert_exporter": "python",
   "pygments_lexer": "ipython3",
   "version": "3.6.7"
  }
 },
 "nbformat": 4,
 "nbformat_minor": 2
}
