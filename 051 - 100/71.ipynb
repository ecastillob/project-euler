{
 "cells": [
  {
   "cell_type": "code",
   "execution_count": 1,
   "metadata": {},
   "outputs": [],
   "source": [
    "def funcion_v4(LIMITE):\n",
    "    d = LIMITE\n",
    "    s = set()\n",
    "    for d in range(1, d+1):\n",
    "        for n in range(1, d):\n",
    "            fraccion = (1.0 * n / d)\n",
    "            s.add(fraccion)\n",
    "    return len(s)"
   ]
  },
  {
   "cell_type": "code",
   "execution_count": 2,
   "metadata": {},
   "outputs": [
    {
     "name": "stdout",
     "output_type": "stream",
     "text": [
      "CPU times: user 19 µs, sys: 0 ns, total: 19 µs\n",
      "Wall time: 23.4 µs\n"
     ]
    },
    {
     "data": {
      "text/plain": [
       "21"
      ]
     },
     "execution_count": 2,
     "metadata": {},
     "output_type": "execute_result"
    }
   ],
   "source": [
    "%%time\n",
    "funcion_v4(8)"
   ]
  },
  {
   "cell_type": "code",
   "execution_count": 3,
   "metadata": {},
   "outputs": [
    {
     "name": "stdout",
     "output_type": "stream",
     "text": [
      "CPU times: user 1.35 ms, sys: 0 ns, total: 1.35 ms\n",
      "Wall time: 1.36 ms\n"
     ]
    },
    {
     "data": {
      "text/plain": [
       "3043"
      ]
     },
     "execution_count": 3,
     "metadata": {},
     "output_type": "execute_result"
    }
   ],
   "source": [
    "%%time\n",
    "funcion_v4(10**2)"
   ]
  },
  {
   "cell_type": "code",
   "execution_count": 4,
   "metadata": {},
   "outputs": [
    {
     "name": "stdout",
     "output_type": "stream",
     "text": [
      "CPU times: user 190 ms, sys: 75.9 ms, total: 266 ms\n",
      "Wall time: 293 ms\n"
     ]
    },
    {
     "data": {
      "text/plain": [
       "304191"
      ]
     },
     "execution_count": 4,
     "metadata": {},
     "output_type": "execute_result"
    }
   ],
   "source": [
    "%%time\n",
    "funcion_v4(10**3)"
   ]
  },
  {
   "cell_type": "code",
   "execution_count": null,
   "metadata": {},
   "outputs": [],
   "source": [
    "%%time\n",
    "funcion_v4(10**4)"
   ]
  },
  {
   "cell_type": "code",
   "execution_count": null,
   "metadata": {},
   "outputs": [],
   "source": []
  },
  {
   "cell_type": "markdown",
   "metadata": {},
   "source": [
    "# otro"
   ]
  },
  {
   "cell_type": "code",
   "execution_count": 1,
   "metadata": {},
   "outputs": [
    {
     "data": {
      "text/plain": [
       "1"
      ]
     },
     "execution_count": 1,
     "metadata": {},
     "output_type": "execute_result"
    }
   ],
   "source": [
    "1"
   ]
  },
  {
   "cell_type": "code",
   "execution_count": 4,
   "metadata": {},
   "outputs": [],
   "source": [
    "def funcion_v5(LIMITE):\n",
    "    d = LIMITE\n",
    "    n_fracciones = 0\n",
    "    s = set()\n",
    "    for d in range(1, d+1):\n",
    "        for n in range(1, d):\n",
    "            n_fracciones += 1\n",
    "            fraccion = (1.0 * n / d)\n",
    "            if fraccion < 3/7:\n",
    "                s.add(fraccion)\n",
    "    print(sorted(s))\n",
    "    return len(s), n_fracciones"
   ]
  },
  {
   "cell_type": "code",
   "execution_count": 5,
   "metadata": {},
   "outputs": [
    {
     "name": "stdout",
     "output_type": "stream",
     "text": [
      "[0.125, 0.14285714285714285, 0.16666666666666666, 0.2, 0.25, 0.2857142857142857, 0.3333333333333333, 0.375, 0.4]\n",
      "CPU times: user 229 µs, sys: 37 µs, total: 266 µs\n",
      "Wall time: 199 µs\n"
     ]
    },
    {
     "data": {
      "text/plain": [
       "(9, 28)"
      ]
     },
     "execution_count": 5,
     "metadata": {},
     "output_type": "execute_result"
    }
   ],
   "source": [
    "%%time\n",
    "funcion_v5(8)"
   ]
  },
  {
   "cell_type": "code",
   "execution_count": 6,
   "metadata": {},
   "outputs": [],
   "source": []
  },
  {
   "cell_type": "code",
   "execution_count": 13,
   "metadata": {},
   "outputs": [],
   "source": [
    "def funcion_v6(LIMITE):\n",
    "    d = LIMITE\n",
    "    n_fracciones = 0\n",
    "    s = set()\n",
    "    mayor = 0\n",
    "    n_mayor = 0\n",
    "    fraccion_mayor = 0\n",
    "    for d in range(1, d+1):\n",
    "        for n in range(1, d):\n",
    "            fraccion = (1.0 * n / d)\n",
    "            if fraccion < 3/7:\n",
    "                if fraccion_mayor < fraccion:\n",
    "                    fraccion_mayor = fraccion\n",
    "                    n_mayor = n\n",
    "                print('{}/{} = {}'.format(n, d, fraccion))\n",
    "                s.add(fraccion)\n",
    "            else:\n",
    "                break\n",
    "            n_fracciones += 1\n",
    "    return len(s), n_fracciones, n_mayor, fraccion_mayor"
   ]
  },
  {
   "cell_type": "code",
   "execution_count": 14,
   "metadata": {},
   "outputs": [
    {
     "name": "stdout",
     "output_type": "stream",
     "text": [
      "1/3 = 0.3333333333333333\n",
      "1/4 = 0.25\n",
      "1/5 = 0.2\n",
      "2/5 = 0.4\n",
      "1/6 = 0.16666666666666666\n",
      "2/6 = 0.3333333333333333\n",
      "1/7 = 0.14285714285714285\n",
      "2/7 = 0.2857142857142857\n",
      "1/8 = 0.125\n",
      "2/8 = 0.25\n",
      "3/8 = 0.375\n"
     ]
    },
    {
     "data": {
      "text/plain": [
       "(9, 11, 2, 0.4)"
      ]
     },
     "execution_count": 14,
     "metadata": {},
     "output_type": "execute_result"
    }
   ],
   "source": [
    "funcion_v6(8)"
   ]
  },
  {
   "cell_type": "code",
   "execution_count": 15,
   "metadata": {},
   "outputs": [],
   "source": [
    "def funcion_v6_2(LIMITE):\n",
    "    d = LIMITE\n",
    "    n_fracciones = 0\n",
    "    mayor = 0\n",
    "    n_mayor = 0\n",
    "    d_mayor = 0\n",
    "    fraccion_mayor = 0\n",
    "    for d in range(1, d+1):\n",
    "        for n in range(1, d):\n",
    "            fraccion = (1.0 * n / d)\n",
    "            if fraccion < 3/7:\n",
    "                if fraccion_mayor < fraccion:\n",
    "                    fraccion_mayor = fraccion\n",
    "                    n_mayor = n\n",
    "                    d_mayor = d\n",
    "            else:\n",
    "                break\n",
    "    return n_mayor, d_mayor, fraccion_mayor"
   ]
  },
  {
   "cell_type": "code",
   "execution_count": 16,
   "metadata": {},
   "outputs": [
    {
     "data": {
      "text/plain": [
       "(2, 5, 0.4)"
      ]
     },
     "execution_count": 16,
     "metadata": {},
     "output_type": "execute_result"
    }
   ],
   "source": [
    "funcion_v6_2(8)"
   ]
  },
  {
   "cell_type": "code",
   "execution_count": 17,
   "metadata": {},
   "outputs": [
    {
     "name": "stdout",
     "output_type": "stream",
     "text": [
      "CPU times: user 224 µs, sys: 63 µs, total: 287 µs\n",
      "Wall time: 290 µs\n"
     ]
    },
    {
     "data": {
      "text/plain": [
       "(41, 96, 0.4270833333333333)"
      ]
     },
     "execution_count": 17,
     "metadata": {},
     "output_type": "execute_result"
    }
   ],
   "source": [
    "%%time\n",
    "funcion_v6_2(10**2)"
   ]
  },
  {
   "cell_type": "code",
   "execution_count": 18,
   "metadata": {},
   "outputs": [
    {
     "name": "stdout",
     "output_type": "stream",
     "text": [
      "CPU times: user 27.3 ms, sys: 41 µs, total: 27.3 ms\n",
      "Wall time: 25.9 ms\n"
     ]
    },
    {
     "data": {
      "text/plain": [
       "(428, 999, 0.42842842842842843)"
      ]
     },
     "execution_count": 18,
     "metadata": {},
     "output_type": "execute_result"
    }
   ],
   "source": [
    "%%time\n",
    "funcion_v6_2(10**3)"
   ]
  },
  {
   "cell_type": "code",
   "execution_count": 19,
   "metadata": {},
   "outputs": [
    {
     "name": "stdout",
     "output_type": "stream",
     "text": [
      "CPU times: user 3.53 s, sys: 0 ns, total: 3.53 s\n",
      "Wall time: 3.79 s\n"
     ]
    },
    {
     "data": {
      "text/plain": [
       "(4283, 9994, 0.42855713428056835)"
      ]
     },
     "execution_count": 19,
     "metadata": {},
     "output_type": "execute_result"
    }
   ],
   "source": [
    "%%time\n",
    "funcion_v6_2(10**4)"
   ]
  },
  {
   "cell_type": "code",
   "execution_count": null,
   "metadata": {},
   "outputs": [],
   "source": []
  },
  {
   "cell_type": "code",
   "execution_count": null,
   "metadata": {},
   "outputs": [],
   "source": []
  },
  {
   "cell_type": "code",
   "execution_count": 1,
   "metadata": {},
   "outputs": [],
   "source": [
    "%load_ext Cython"
   ]
  },
  {
   "cell_type": "code",
   "execution_count": 31,
   "metadata": {},
   "outputs": [],
   "source": [
    "%%cython --compile-args=-O3 --force\n",
    "\n",
    "cimport cython\n",
    "\n",
    "\n",
    "@cython.boundscheck(False)  # Deactivate bounds checking\n",
    "@cython.wraparound(False)   # Deactivate negative indexing.\n",
    "def cy_funcion_v6_2(LIMITE):\n",
    "    cdef unsigned int n, d, mayor, n_mayor, d_mayor\n",
    "    cdef float fraccion_mayor, fraccion\n",
    "    d = LIMITE\n",
    "    mayor = 0\n",
    "    n_mayor = 0\n",
    "    d_mayor = 0\n",
    "    fraccion_mayor = 0\n",
    "    for d in range(1, d+1):\n",
    "        for n in range(1, d):\n",
    "            fraccion = (1.0 * n / d)\n",
    "            if fraccion < 3.0/7:\n",
    "                if fraccion_mayor < fraccion:\n",
    "                    fraccion_mayor = fraccion\n",
    "                    n_mayor = n\n",
    "                    d_mayor = d\n",
    "            else:\n",
    "                break\n",
    "    return n_mayor, d_mayor, fraccion_mayor"
   ]
  },
  {
   "cell_type": "code",
   "execution_count": 26,
   "metadata": {},
   "outputs": [
    {
     "name": "stdout",
     "output_type": "stream",
     "text": [
      "CPU times: user 7 µs, sys: 1 µs, total: 8 µs\n",
      "Wall time: 11.7 µs\n"
     ]
    },
    {
     "data": {
      "text/plain": [
       "(2, 5, 0.4000000059604645)"
      ]
     },
     "execution_count": 26,
     "metadata": {},
     "output_type": "execute_result"
    }
   ],
   "source": [
    "%%time\n",
    "cy_funcion_v6_2(8)"
   ]
  },
  {
   "cell_type": "code",
   "execution_count": 32,
   "metadata": {},
   "outputs": [
    {
     "name": "stdout",
     "output_type": "stream",
     "text": [
      "CPU times: user 63.2 ms, sys: 5 µs, total: 63.2 ms\n",
      "Wall time: 63 ms\n"
     ]
    },
    {
     "data": {
      "text/plain": [
       "(4277, 9980, 0.4285571277141571)"
      ]
     },
     "execution_count": 32,
     "metadata": {},
     "output_type": "execute_result"
    }
   ],
   "source": [
    "%%time\n",
    "cy_funcion_v6_2(10**4)"
   ]
  },
  {
   "cell_type": "code",
   "execution_count": 28,
   "metadata": {},
   "outputs": [
    {
     "name": "stdout",
     "output_type": "stream",
     "text": [
      "CPU times: user 4.52 s, sys: 9.94 ms, total: 4.53 s\n",
      "Wall time: 4.68 s\n"
     ]
    },
    {
     "data": {
      "text/plain": [
       "(42485, 99132, 0.4285700023174286)"
      ]
     },
     "execution_count": 28,
     "metadata": {},
     "output_type": "execute_result"
    }
   ],
   "source": [
    "%%time\n",
    "cy_funcion_v6_2(10**5)"
   ]
  },
  {
   "cell_type": "code",
   "execution_count": 29,
   "metadata": {},
   "outputs": [
    {
     "name": "stdout",
     "output_type": "stream",
     "text": [
      "CPU times: user 8min 57s, sys: 1.74 s, total: 8min 58s\n",
      "Wall time: 9min 20s\n"
     ]
    },
    {
     "data": {
      "text/plain": [
       "(383480, 894787, 0.42857128381729126)"
      ]
     },
     "execution_count": 29,
     "metadata": {},
     "output_type": "execute_result"
    }
   ],
   "source": [
    "%%time\n",
    "cy_funcion_v6_2(10**6)"
   ]
  },
  {
   "cell_type": "code",
   "execution_count": 10,
   "metadata": {},
   "outputs": [],
   "source": [
    "%%cython --compile-args=-O3 --force\n",
    "\n",
    "cimport cython\n",
    "\n",
    "\n",
    "@cython.boundscheck(False)  # Deactivate bounds checking\n",
    "@cython.wraparound(False)   # Deactivate negative indexing.\n",
    "def cy_funcion_v6_3(LIMITE):\n",
    "    cdef unsigned int n, d, mayor, n_mayor, d_mayor\n",
    "    cdef float fraccion_mayor, fraccion\n",
    "    d = LIMITE\n",
    "    mayor = 0\n",
    "    n_mayor = 0\n",
    "    d_mayor = 0\n",
    "    fraccion_mayor = 0\n",
    "    for d in range(1, d+1):\n",
    "        if d%10000 == 0:\n",
    "            print(d, end=\" \")\n",
    "        for n in range(1, d):\n",
    "            fraccion = (1.0 * n / d)\n",
    "            if fraccion < 3.0/7:\n",
    "                if fraccion_mayor < fraccion:\n",
    "                    fraccion_mayor = fraccion\n",
    "                    n_mayor = n\n",
    "                    d_mayor = d\n",
    "    print(\"\")\n",
    "    return n_mayor, d_mayor, fraccion_mayor"
   ]
  },
  {
   "cell_type": "code",
   "execution_count": 11,
   "metadata": {},
   "outputs": [
    {
     "name": "stdout",
     "output_type": "stream",
     "text": [
      "\n",
      "CPU times: user 0 ns, sys: 418 µs, total: 418 µs\n",
      "Wall time: 323 µs\n"
     ]
    },
    {
     "data": {
      "text/plain": [
       "(2, 5, 0.4000000059604645)"
      ]
     },
     "execution_count": 11,
     "metadata": {},
     "output_type": "execute_result"
    }
   ],
   "source": [
    "%%time\n",
    "cy_funcion_v6_3(8)"
   ]
  },
  {
   "cell_type": "code",
   "execution_count": 12,
   "metadata": {},
   "outputs": [
    {
     "name": "stdout",
     "output_type": "stream",
     "text": [
      "10000 \n",
      "CPU times: user 98.4 ms, sys: 0 ns, total: 98.4 ms\n",
      "Wall time: 122 ms\n"
     ]
    },
    {
     "data": {
      "text/plain": [
       "(4277, 9980, 0.4285571277141571)"
      ]
     },
     "execution_count": 12,
     "metadata": {},
     "output_type": "execute_result"
    }
   ],
   "source": [
    "%%time\n",
    "cy_funcion_v6_3(10**4)"
   ]
  },
  {
   "cell_type": "code",
   "execution_count": 13,
   "metadata": {},
   "outputs": [
    {
     "name": "stdout",
     "output_type": "stream",
     "text": [
      "10000 20000 30000 40000 50000 60000 70000 80000 90000 100000 \n",
      "CPU times: user 9.46 s, sys: 23.5 ms, total: 9.48 s\n",
      "Wall time: 9.55 s\n"
     ]
    },
    {
     "data": {
      "text/plain": [
       "(42485, 99132, 0.4285700023174286)"
      ]
     },
     "execution_count": 13,
     "metadata": {},
     "output_type": "execute_result"
    }
   ],
   "source": [
    "%%time\n",
    "cy_funcion_v6_3(10**5)"
   ]
  },
  {
   "cell_type": "code",
   "execution_count": 14,
   "metadata": {},
   "outputs": [
    {
     "name": "stdout",
     "output_type": "stream",
     "text": [
      "10000 20000 30000 40000 50000 60000 70000 80000 90000 100000 110000 120000 130000 140000 150000 160000 170000 180000 190000 200000 210000 220000 230000 240000 250000 260000 270000 280000 290000 300000 310000 320000 330000 340000 350000 360000 370000 380000 390000 400000 410000 420000 430000 440000 450000 460000 470000 480000 490000 500000 510000 520000 530000 540000 550000 560000 570000 580000 590000 600000 610000 620000 630000 640000 650000 660000 670000 680000 690000 700000 710000 720000 730000 740000 750000 760000 770000 780000 790000 800000 810000 820000 830000 840000 850000 860000 870000 880000 890000 900000 910000 920000 930000 940000 950000 960000 970000 980000 990000 1000000 \n",
      "CPU times: user 18min 8s, sys: 2.32 s, total: 18min 11s\n",
      "Wall time: 18min 46s\n"
     ]
    },
    {
     "data": {
      "text/plain": [
       "(383480, 894787, 0.42857128381729126)"
      ]
     },
     "execution_count": 14,
     "metadata": {},
     "output_type": "execute_result"
    }
   ],
   "source": [
    "%%time\n",
    "cy_funcion_v6_3(10**6)"
   ]
  },
  {
   "cell_type": "code",
   "execution_count": 16,
   "metadata": {},
   "outputs": [
    {
     "ename": "NameError",
     "evalue": "name 'q' is not defined",
     "output_type": "error",
     "traceback": [
      "\u001b[0;31m---------------------------------------------------------------------------\u001b[0m",
      "\u001b[0;31mNameError\u001b[0m                                 Traceback (most recent call last)",
      "\u001b[0;32m<ipython-input-16-7e09404b3beb>\u001b[0m in \u001b[0;36m<module>\u001b[0;34m\u001b[0m\n\u001b[0;32m----> 1\u001b[0;31m \u001b[0mq\u001b[0m\u001b[0;34m\u001b[0m\u001b[0;34m\u001b[0m\u001b[0m\n\u001b[0m",
      "\u001b[0;31mNameError\u001b[0m: name 'q' is not defined"
     ]
    }
   ],
   "source": [
    " "
   ]
  },
  {
   "cell_type": "code",
   "execution_count": 17,
   "metadata": {},
   "outputs": [
    {
     "data": {
      "text/plain": [
       "1"
      ]
     },
     "execution_count": 17,
     "metadata": {},
     "output_type": "execute_result"
    }
   ],
   "source": [
    "1"
   ]
  },
  {
   "cell_type": "code",
   "execution_count": 18,
   "metadata": {},
   "outputs": [],
   "source": [
    "%%cython --compile-args=-O3 --force\n",
    "\n",
    "cimport cython\n",
    "\n",
    "\n",
    "@cython.boundscheck(False)  # Deactivate bounds checking\n",
    "@cython.wraparound(False)   # Deactivate negative indexing.\n",
    "def cy_funcion_v6_4(LIMITE):\n",
    "    cdef unsigned int n, d, mayor, n_mayor, d_mayor, limite\n",
    "    cdef float fraccion_mayor, fraccion\n",
    "    limite = LIMITE\n",
    "    mayor = 0\n",
    "    n_mayor = 0\n",
    "    d_mayor = 0\n",
    "    fraccion_mayor = 0\n",
    "    for d in range(1, limite+1):\n",
    "        if d%10000 == 0:\n",
    "            print(d, end=\" \")\n",
    "        for n in range(1, d):\n",
    "            fraccion = (1.0 * n / d)\n",
    "            if fraccion < 3.0/7:\n",
    "                if fraccion_mayor < fraccion:\n",
    "                    fraccion_mayor = fraccion\n",
    "                    n_mayor = n\n",
    "                    d_mayor = d\n",
    "    print(\"\")\n",
    "    return n_mayor, d_mayor, fraccion_mayor"
   ]
  },
  {
   "cell_type": "code",
   "execution_count": 19,
   "metadata": {},
   "outputs": [
    {
     "name": "stdout",
     "output_type": "stream",
     "text": [
      "\n",
      "CPU times: user 0 ns, sys: 152 µs, total: 152 µs\n",
      "Wall time: 131 µs\n"
     ]
    },
    {
     "data": {
      "text/plain": [
       "(2, 5, 0.4000000059604645)"
      ]
     },
     "execution_count": 19,
     "metadata": {},
     "output_type": "execute_result"
    }
   ],
   "source": [
    "%%time\n",
    "cy_funcion_v6_4(8)"
   ]
  },
  {
   "cell_type": "code",
   "execution_count": 20,
   "metadata": {},
   "outputs": [
    {
     "name": "stdout",
     "output_type": "stream",
     "text": [
      "10000 \n",
      "CPU times: user 102 ms, sys: 1 ms, total: 103 ms\n",
      "Wall time: 152 ms\n"
     ]
    },
    {
     "data": {
      "text/plain": [
       "(4277, 9980, 0.4285571277141571)"
      ]
     },
     "execution_count": 20,
     "metadata": {},
     "output_type": "execute_result"
    }
   ],
   "source": [
    "%%time\n",
    "cy_funcion_v6_4(10**4)"
   ]
  },
  {
   "cell_type": "code",
   "execution_count": 21,
   "metadata": {},
   "outputs": [
    {
     "name": "stdout",
     "output_type": "stream",
     "text": [
      "10000 20000 30000 40000 50000 60000 70000 80000 90000 100000 \n",
      "CPU times: user 10.1 s, sys: 22 ms, total: 10.1 s\n",
      "Wall time: 10.4 s\n"
     ]
    },
    {
     "data": {
      "text/plain": [
       "(42485, 99132, 0.4285700023174286)"
      ]
     },
     "execution_count": 21,
     "metadata": {},
     "output_type": "execute_result"
    }
   ],
   "source": [
    "%%time\n",
    "cy_funcion_v6_4(10**5)"
   ]
  },
  {
   "cell_type": "code",
   "execution_count": null,
   "metadata": {},
   "outputs": [
    {
     "name": "stdout",
     "output_type": "stream",
     "text": [
      "10000 20000 30000 40000 50000 60000 70000 80000 90000 100000 "
     ]
    }
   ],
   "source": [
    "%%time\n",
    "cy_funcion_v6_4(10**6)"
   ]
  },
  {
   "cell_type": "code",
   "execution_count": null,
   "metadata": {},
   "outputs": [],
   "source": []
  }
 ],
 "metadata": {
  "kernelspec": {
   "display_name": "Python 3",
   "language": "python",
   "name": "python3"
  },
  "language_info": {
   "codemirror_mode": {
    "name": "ipython",
    "version": 3
   },
   "file_extension": ".py",
   "mimetype": "text/x-python",
   "name": "python",
   "nbconvert_exporter": "python",
   "pygments_lexer": "ipython3",
   "version": "3.6.7"
  }
 },
 "nbformat": 4,
 "nbformat_minor": 2
}
