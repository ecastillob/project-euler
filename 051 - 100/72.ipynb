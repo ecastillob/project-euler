{
 "cells": [
  {
   "cell_type": "code",
   "execution_count": 1,
   "metadata": {},
   "outputs": [
    {
     "name": "stdout",
     "output_type": "stream",
     "text": [
      "2 1\n",
      "3 3\n",
      "4 5\n",
      "5 9\n",
      "6 11\n",
      "7 17\n",
      "8 21\n",
      "9 27\n",
      "10 31\n",
      "11 41\n",
      "12 45\n",
      "13 57\n",
      "14 63\n",
      "15 71\n",
      "16 79\n",
      "17 95\n",
      "18 101\n",
      "19 119\n"
     ]
    }
   ],
   "source": [
    "for d in range(2, 20):\n",
    "    total = 0\n",
    "    s = set()\n",
    "    for y in range(2, d+1):\n",
    "        for x in range(1, y):\n",
    "            s.add(x/y)\n",
    "    print(d, len(s))"
   ]
  },
  {
   "cell_type": "markdown",
   "metadata": {},
   "source": [
    "**referencias**:\n",
    "- https://oeis.org/A015614"
   ]
  },
  {
   "cell_type": "code",
   "execution_count": null,
   "metadata": {},
   "outputs": [],
   "source": []
  },
  {
   "cell_type": "code",
   "execution_count": 2,
   "metadata": {},
   "outputs": [],
   "source": [
    "def es_primo_simple(N):\n",
    "    #cdef unsigned int extremo, i\n",
    "    es = True\n",
    "    extremo = (N // 2)+1\n",
    "    for i in range(3, extremo, 2):\n",
    "        if N % i == 0:\n",
    "            es = False\n",
    "            break\n",
    "    return es\n",
    "\n",
    "\n",
    "def calcular_phi(N, primos):\n",
    "    #cdef unsigned int i, p, mitad, entero\n",
    "    #cdef float multi, termino_actual\n",
    "    multi = 1\n",
    "    mitad = (N // 2) + 1\n",
    "    for p in primos:\n",
    "        if p > mitad:\n",
    "            break\n",
    "        if N % p == 0:\n",
    "            termino_actual = (1 - (1.0/p))\n",
    "            multi *= termino_actual\n",
    "    #entero = int(multi)\n",
    "    return round(multi * N)\n",
    "\n",
    "\n",
    "def funcion_v4(N_):\n",
    "    #cdef unsigned int p, mitad, phi, suma, i, d\n",
    "    #cdef float multi, termino_actual\n",
    "    multi = 0\n",
    "    termino_actual = 0\n",
    "    phi = 0\n",
    "    primos = tuple([2] + [i for i in range(3, N_+1, 2) if es_primo_simple(i)])\n",
    "    primos_set = set(primos)\n",
    "    total = len(primos)\n",
    "    print(\"total:\", total)\n",
    "    d = N_\n",
    "    resultado = sum((i - 1) if i in primos_set else calcular_phi(i, primos)  for i in range(2, d+1))\n",
    "    print(d, resultado)\n",
    "    return resultado"
   ]
  },
  {
   "cell_type": "code",
   "execution_count": 3,
   "metadata": {},
   "outputs": [
    {
     "name": "stdout",
     "output_type": "stream",
     "text": [
      "total: 4\n",
      "8 21\n",
      "8 21\n",
      "CPU times: user 550 µs, sys: 107 µs, total: 657 µs\n",
      "Wall time: 426 µs\n"
     ]
    }
   ],
   "source": [
    "%%time\n",
    "d = 8\n",
    "print(d, funcion_v4(d))"
   ]
  },
  {
   "cell_type": "code",
   "execution_count": 4,
   "metadata": {},
   "outputs": [
    {
     "name": "stdout",
     "output_type": "stream",
     "text": [
      "total: 5133\n",
      "50000 759924263\n",
      "50000 759924263\n",
      "CPU times: user 8.75 s, sys: 11.3 ms, total: 8.76 s\n",
      "Wall time: 8.75 s\n"
     ]
    }
   ],
   "source": [
    "%%time\n",
    "d = 50_000\n",
    "print(d, funcion_v4(d))"
   ]
  },
  {
   "cell_type": "code",
   "execution_count": 5,
   "metadata": {},
   "outputs": [
    {
     "name": "stdout",
     "output_type": "stream",
     "text": [
      "total: 9592\n",
      "100000 3039650753\n",
      "100000 3039650753\n",
      "CPU times: user 32.9 s, sys: 75.9 ms, total: 32.9 s\n",
      "Wall time: 32.9 s\n"
     ]
    }
   ],
   "source": [
    "%%time\n",
    "d = 100_000\n",
    "print(d, funcion_v4(d))"
   ]
  },
  {
   "cell_type": "code",
   "execution_count": null,
   "metadata": {},
   "outputs": [],
   "source": []
  },
  {
   "cell_type": "code",
   "execution_count": 6,
   "metadata": {},
   "outputs": [],
   "source": [
    "%load_ext Cython"
   ]
  },
  {
   "cell_type": "code",
   "execution_count": 7,
   "metadata": {},
   "outputs": [],
   "source": [
    "%%cython --compile-args=-O3 --force\n",
    "\n",
    "from libc.math cimport sqrt\n",
    "from array import array\n",
    "from cpython cimport array as c_array\n",
    "cimport cython\n",
    "\n",
    "\n",
    "@cython.boundscheck(False)\n",
    "@cython.wraparound(False)\n",
    "cdef cy_es_primo_simple(unsigned int N):\n",
    "    cdef unsigned int extremo, i\n",
    "    es = True\n",
    "    extremo = (N // 2)+1\n",
    "    for i in range(3, extremo, 2):\n",
    "        if N % i == 0:\n",
    "            es = False\n",
    "            break\n",
    "    return es\n",
    "\n",
    "\n",
    "@cython.boundscheck(False)\n",
    "@cython.wraparound(False)\n",
    "cdef unsigned int calcular_phi(unsigned int N, primos):\n",
    "    cdef unsigned int i, p, mitad, entero\n",
    "    cdef float multi, termino_actual\n",
    "    multi = 1\n",
    "    mitad = (N // 2) + 1\n",
    "    for p in primos:\n",
    "        if p > mitad:\n",
    "            break\n",
    "        if N % p == 0:\n",
    "            termino_actual = (1 - (1.0/p))\n",
    "            multi *= termino_actual\n",
    "    #entero = int(multi)\n",
    "    return round(multi * N)\n",
    "\n",
    "\n",
    "@cython.boundscheck(False)\n",
    "@cython.wraparound(False)\n",
    "cdef cy_funcion_v4(unsigned int N_):\n",
    "    cdef unsigned int p, mitad, phi, suma, i, d\n",
    "    cdef float multi, termino_actual\n",
    "    multi = 0\n",
    "    termino_actual = 0\n",
    "    phi = 0\n",
    "    primos = tuple([2] + [i for i in range(3, N_+1, 2) if cy_es_primo_simple(i)])\n",
    "    primos_set = set(primos)\n",
    "    total = len(primos)\n",
    "    print(\"total:\", total)\n",
    "    d = N_\n",
    "    resultado = sum((i - 1) if i in primos_set else calcular_phi(i, primos)  for i in range(2, d+1))\n",
    "    print(d, resultado)\n",
    "    return resultado\n",
    "\n",
    "\n",
    "def funcion4(N):\n",
    "    return cy_funcion_v4(N)"
   ]
  },
  {
   "cell_type": "code",
   "execution_count": 8,
   "metadata": {},
   "outputs": [
    {
     "name": "stdout",
     "output_type": "stream",
     "text": [
      "total: 4\n",
      "8 21\n",
      "8 21\n",
      "CPU times: user 1.09 ms, sys: 7 µs, total: 1.1 ms\n",
      "Wall time: 731 µs\n"
     ]
    }
   ],
   "source": [
    "%%time\n",
    "d = 8\n",
    "print(d, funcion4(d))"
   ]
  },
  {
   "cell_type": "code",
   "execution_count": 9,
   "metadata": {},
   "outputs": [
    {
     "name": "stdout",
     "output_type": "stream",
     "text": [
      "total: 5133\n",
      "50000 759924263\n",
      "50000 759924263\n",
      "CPU times: user 577 ms, sys: 33 µs, total: 577 ms\n",
      "Wall time: 572 ms\n"
     ]
    }
   ],
   "source": [
    "%%time\n",
    "d = 50_000\n",
    "print(d, funcion4(d))"
   ]
  },
  {
   "cell_type": "code",
   "execution_count": 10,
   "metadata": {},
   "outputs": [
    {
     "name": "stdout",
     "output_type": "stream",
     "text": [
      "total: 9592\n",
      "100000 3039650753\n",
      "100000 3039650753\n",
      "CPU times: user 2.1 s, sys: 4.05 ms, total: 2.11 s\n",
      "Wall time: 2.09 s\n"
     ]
    }
   ],
   "source": [
    "%%time\n",
    "d = 100_000\n",
    "print(d, funcion4(d))"
   ]
  },
  {
   "cell_type": "code",
   "execution_count": 11,
   "metadata": {},
   "outputs": [
    {
     "name": "stdout",
     "output_type": "stream",
     "text": [
      "total: 17984\n",
      "200000 12158598917\n",
      "200000 12158598917\n",
      "CPU times: user 7.77 s, sys: 40.1 ms, total: 7.81 s\n",
      "Wall time: 7.74 s\n"
     ]
    }
   ],
   "source": [
    "%%time\n",
    "d = 200_000\n",
    "print(d, funcion4(d))"
   ]
  },
  {
   "cell_type": "code",
   "execution_count": 12,
   "metadata": {},
   "outputs": [
    {
     "name": "stdout",
     "output_type": "stream",
     "text": [
      "total: 41538\n",
      "500000 75991039675\n",
      "500000 75991039675\n",
      "CPU times: user 44.4 s, sys: 244 ms, total: 44.6 s\n",
      "Wall time: 44.2 s\n"
     ]
    }
   ],
   "source": [
    "%%time\n",
    "d = 500_000\n",
    "print(d, funcion4(d))"
   ]
  },
  {
   "cell_type": "code",
   "execution_count": 13,
   "metadata": {},
   "outputs": [
    {
     "name": "stdout",
     "output_type": "stream",
     "text": [
      "total: 78498\n",
      "1000000 303963552391\n",
      "1000000 303963552391\n",
      "CPU times: user 2min 48s, sys: 714 ms, total: 2min 48s\n",
      "Wall time: 2min 47s\n"
     ]
    }
   ],
   "source": [
    "%%time\n",
    "d = 1_000_000\n",
    "print(d, funcion4(d))"
   ]
  }
 ],
 "metadata": {
  "kernelspec": {
   "display_name": "Python 3",
   "language": "python",
   "name": "python3"
  },
  "language_info": {
   "codemirror_mode": {
    "name": "ipython",
    "version": 3
   },
   "file_extension": ".py",
   "mimetype": "text/x-python",
   "name": "python",
   "nbconvert_exporter": "python",
   "pygments_lexer": "ipython3",
   "version": "3.6.7"
  }
 },
 "nbformat": 4,
 "nbformat_minor": 2
}
