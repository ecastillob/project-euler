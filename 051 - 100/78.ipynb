{
 "cells": [
  {
   "cell_type": "code",
   "execution_count": 1,
   "metadata": {},
   "outputs": [],
   "source": [
    "from itertools import permutations, combinations, combinations_with_replacement"
   ]
  },
  {
   "cell_type": "code",
   "execution_count": 2,
   "metadata": {},
   "outputs": [
    {
     "name": "stdout",
     "output_type": "stream",
     "text": [
      "(0, 0, 0, 1, 4)\n",
      "(0, 0, 0, 2, 3)\n",
      "(0, 0, 1, 1, 3)\n",
      "(0, 0, 1, 2, 2)\n",
      "(0, 1, 1, 1, 2)\n",
      "(1, 1, 1, 1, 1)\n"
     ]
    },
    {
     "data": {
      "text/plain": [
       "7"
      ]
     },
     "execution_count": 2,
     "metadata": {},
     "output_type": "execute_result"
    }
   ],
   "source": [
    "N = 5\n",
    "valores = tuple(range(N)); valores\n",
    "contador = 1\n",
    "for t in combinations_with_replacement(valores, len(valores)):\n",
    "    if sum(t) == N:\n",
    "        print(t)\n",
    "        contador += 1\n",
    "contador"
   ]
  },
  {
   "cell_type": "code",
   "execution_count": 3,
   "metadata": {},
   "outputs": [
    {
     "name": "stdout",
     "output_type": "stream",
     "text": [
      "5 \t 7\n",
      "6 \t 11\n",
      "7 \t 15\n",
      "8 \t 22\n",
      "9 \t 30\n",
      "10 \t 42\n",
      "11 \t 56\n",
      "12 \t 77\n",
      "13 \t 101\n",
      "14 \t 135\n"
     ]
    }
   ],
   "source": [
    "for N in range(5, 15):\n",
    "    valores = tuple(range(N))\n",
    "    contador = 1\n",
    "    for t in combinations_with_replacement(valores, len(valores)):\n",
    "        if sum(t) == N:\n",
    "            #print(t)\n",
    "            contador += 1\n",
    "    print(N, '\\t', contador)"
   ]
  },
  {
   "cell_type": "code",
   "execution_count": 4,
   "metadata": {},
   "outputs": [],
   "source": [
    "\"\"\"\n",
    "Secuencia: https://oeis.org/A000041\n",
    "a(n) = (1/n) * Sum_{k=0..n-1} sigma(n-k)*a(k), where sigma(k) is the sum of divisors of k (A000203).\n",
    "1, 1, 2, 3, 5, 7, 11, 15, 22, 30, 42, 56, 77, 101, 135, 176, 231, 297, 385, 490, 627, 792, 1002, 1255, 1575, 1958, 2436, 3010, 3718, 4565, 5604, 6842, 8349, 10143, 12310, 14883, 17977, 21637, 26015, 31185, 37338, 44583, 53174, 63261, 75175, 89134, 105558, 124754, 147273, 173525 (list; graph; refs; listen; history; text; internal format)\n",
    "\"\"\";"
   ]
  },
  {
   "cell_type": "code",
   "execution_count": 5,
   "metadata": {},
   "outputs": [],
   "source": [
    "def suma_divisores(N):\n",
    "    suma = 0\n",
    "    extremo = (N//2)+1\n",
    "    step = 1 if (N % 2 == 0) else 2\n",
    "    for i in range(1, extremo, step):\n",
    "        if N % i == 0:\n",
    "            suma += i\n",
    "    return suma+N"
   ]
  },
  {
   "cell_type": "code",
   "execution_count": 6,
   "metadata": {},
   "outputs": [
    {
     "data": {
      "text/plain": [
       "[1, 1, 2, 3, 5, 7, 11]"
      ]
     },
     "execution_count": 6,
     "metadata": {},
     "output_type": "execute_result"
    }
   ],
   "source": [
    "a = [1, 1, 2, 3, 5, 7, 11]; a"
   ]
  },
  {
   "cell_type": "code",
   "execution_count": 7,
   "metadata": {},
   "outputs": [
    {
     "data": {
      "text/plain": [
       "15"
      ]
     },
     "execution_count": 7,
     "metadata": {},
     "output_type": "execute_result"
    }
   ],
   "source": [
    "N = 7\n",
    "suma = 0\n",
    "for k in range(N):\n",
    "    suma += suma_divisores(N-k) * a[k]\n",
    "suma // N"
   ]
  },
  {
   "cell_type": "code",
   "execution_count": 8,
   "metadata": {},
   "outputs": [],
   "source": [
    "import time"
   ]
  },
  {
   "cell_type": "code",
   "execution_count": 9,
   "metadata": {},
   "outputs": [],
   "source": [
    "def funcion(LIMITE):\n",
    "    INICIO = time.time()\n",
    "    resultado = -1\n",
    "    d = {v:suma_divisores(v) for v in range(1, LIMITE)}\n",
    "    a = [1, 1, 2, 3, 5]\n",
    "    for N in range(5, LIMITE):\n",
    "        suma = 0\n",
    "        for k in range(N):\n",
    "            suma += d[N-k] * a[k]\n",
    "        a.append(suma // N)\n",
    "    print(time.time() - INICIO)\n",
    "    for indice, valor in enumerate(a):\n",
    "        if valor % 1_000_000 == 0:\n",
    "            print(indice)\n",
    "            print(valor)\n",
    "            resultado = indice\n",
    "            break\n",
    "    print(time.time() - INICIO)\n",
    "    return resultado"
   ]
  },
  {
   "cell_type": "code",
   "execution_count": 10,
   "metadata": {},
   "outputs": [
    {
     "name": "stdout",
     "output_type": "stream",
     "text": [
      "11.993155717849731\n",
      "11.995433568954468\n"
     ]
    },
    {
     "data": {
      "text/plain": [
       "-1"
      ]
     },
     "execution_count": 10,
     "metadata": {},
     "output_type": "execute_result"
    }
   ],
   "source": [
    "funcion(10_000)"
   ]
  },
  {
   "cell_type": "code",
   "execution_count": 11,
   "metadata": {},
   "outputs": [
    {
     "name": "stdout",
     "output_type": "stream",
     "text": [
      "360.63656401634216\n",
      "360.65844917297363\n"
     ]
    },
    {
     "data": {
      "text/plain": [
       "-1"
      ]
     },
     "execution_count": 11,
     "metadata": {},
     "output_type": "execute_result"
    }
   ],
   "source": [
    "funcion(50_000)"
   ]
  },
  {
   "cell_type": "code",
   "execution_count": 12,
   "metadata": {},
   "outputs": [
    {
     "name": "stdout",
     "output_type": "stream",
     "text": [
      "1622.269998550415\n",
      "55374\n",
      "36325300925435785930832331577396761646715836173633893227071086460709268608053489541731404543537668438991170680745272159154493740615385823202158167635276250554555342115855424598920159035413044811245082197335097953570911884252410730174907784762924663654000000\n",
      "1622.2924308776855\n"
     ]
    },
    {
     "data": {
      "text/plain": [
       "55374"
      ]
     },
     "execution_count": 12,
     "metadata": {},
     "output_type": "execute_result"
    }
   ],
   "source": [
    "funcion(100_000)"
   ]
  },
  {
   "cell_type": "code",
   "execution_count": null,
   "metadata": {},
   "outputs": [],
   "source": []
  }
 ],
 "metadata": {
  "kernelspec": {
   "display_name": "Python 3",
   "language": "python",
   "name": "python3"
  },
  "language_info": {
   "codemirror_mode": {
    "name": "ipython",
    "version": 3
   },
   "file_extension": ".py",
   "mimetype": "text/x-python",
   "name": "python",
   "nbconvert_exporter": "python",
   "pygments_lexer": "ipython3",
   "version": "3.6.10"
  }
 },
 "nbformat": 4,
 "nbformat_minor": 2
}
