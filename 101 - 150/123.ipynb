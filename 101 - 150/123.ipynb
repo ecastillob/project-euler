{
 "cells": [
  {
   "cell_type": "code",
   "execution_count": 1,
   "metadata": {},
   "outputs": [],
   "source": [
    "%load_ext cython"
   ]
  },
  {
   "cell_type": "code",
   "execution_count": 91,
   "metadata": {},
   "outputs": [],
   "source": [
    "%%cython --compile-args=-O3 --force\n",
    "\n",
    "from libc.math cimport sqrt\n",
    "from array import array\n",
    "from cpython cimport array as c_array\n",
    "cimport cython\n",
    "\n",
    "\n",
    "@cython.boundscheck(False)\n",
    "@cython.wraparound(False)\n",
    "cdef cy_es_primo_simple(unsigned int N):\n",
    "    cdef unsigned int extremo, i\n",
    "    es = True\n",
    "    extremo = (N // 2)+1\n",
    "    for i in range(3, extremo, 2):\n",
    "        if N % i == 0:\n",
    "            es = False\n",
    "            break\n",
    "    return es\n",
    "\n",
    "\n",
    "@cython.boundscheck(False)\n",
    "@cython.wraparound(False)\n",
    "cdef unsigned int cy_funcion1(unsigned int N):\n",
    "    cdef unsigned int L, L__2, b\n",
    "    cdef unsigned int contador\n",
    "    cdef float raiz, h\n",
    "    contador = 0\n",
    "    for L in range(15, N):\n",
    "        L__2 = L**2\n",
    "        b = 1\n",
    "        raiz = 1\n",
    "        while raiz > 0:\n",
    "            raiz = (L__2 - ((b/2)**2))\n",
    "            h = sqrt(raiz)\n",
    "            if h == b+1 or h == b-1:\n",
    "                contador += 1\n",
    "                print(contador, \"--\", b + L+L, \"\\t\", b, L, h)\n",
    "                break\n",
    "            b += 1\n",
    "    return contador\n",
    "\n",
    "\n",
    "def funcion1(N):\n",
    "    return cy_funcion1(N)\n",
    "\n",
    "\n",
    "def funcion_primos(N):\n",
    "    los_primos = tuple([2] + [i for i in range(3, N, 2) if cy_es_primo_simple(i)])\n",
    "    print(\"cantidad:\", len(los_primos))\n",
    "    print(los_primos[:5], \"...\", los_primos[-5:])\n",
    "    return los_primos"
   ]
  },
  {
   "cell_type": "code",
   "execution_count": 94,
   "metadata": {},
   "outputs": [
    {
     "name": "stdout",
     "output_type": "stream",
     "text": [
      "cantidad: 25\n",
      "(2, 3, 5, 7, 11) ... (73, 79, 83, 89, 97)\n"
     ]
    },
    {
     "data": {
      "text/plain": [
       "25"
      ]
     },
     "execution_count": 94,
     "metadata": {},
     "output_type": "execute_result"
    }
   ],
   "source": [
    "primos = funcion_primos(100)\n",
    "len(primos)"
   ]
  },
  {
   "cell_type": "code",
   "execution_count": 95,
   "metadata": {},
   "outputs": [
    {
     "name": "stdout",
     "output_type": "stream",
     "text": [
      "cantidad: 168\n",
      "(2, 3, 5, 7, 11) ... (971, 977, 983, 991, 997)\n"
     ]
    },
    {
     "data": {
      "text/plain": [
       "168"
      ]
     },
     "execution_count": 95,
     "metadata": {},
     "output_type": "execute_result"
    }
   ],
   "source": [
    "primos = funcion_primos(1_000)\n",
    "len(primos)"
   ]
  },
  {
   "cell_type": "code",
   "execution_count": 96,
   "metadata": {},
   "outputs": [
    {
     "name": "stdout",
     "output_type": "stream",
     "text": [
      "cantidad: 1229\n",
      "(2, 3, 5, 7, 11) ... (9931, 9941, 9949, 9967, 9973)\n"
     ]
    },
    {
     "data": {
      "text/plain": [
       "1229"
      ]
     },
     "execution_count": 96,
     "metadata": {},
     "output_type": "execute_result"
    }
   ],
   "source": [
    "primos = funcion_primos(10_000)\n",
    "len(primos)"
   ]
  },
  {
   "cell_type": "code",
   "execution_count": 98,
   "metadata": {},
   "outputs": [
    {
     "name": "stdout",
     "output_type": "stream",
     "text": [
      "cantidad: 9592\n",
      "(2, 3, 5, 7, 11) ... (99929, 99961, 99971, 99989, 99991)\n",
      "CPU times: user 340 ms, sys: 0 ns, total: 340 ms\n",
      "Wall time: 340 ms\n"
     ]
    }
   ],
   "source": [
    "%%time\n",
    "primos = funcion_primos(100_000)\n",
    "len(primos)"
   ]
  },
  {
   "cell_type": "code",
   "execution_count": 100,
   "metadata": {},
   "outputs": [
    {
     "name": "stdout",
     "output_type": "stream",
     "text": [
      "cantidad: 17984\n",
      "(2, 3, 5, 7, 11) ... (199931, 199933, 199961, 199967, 199999)\n",
      "CPU times: user 1.27 s, sys: 5 ms, total: 1.27 s\n",
      "Wall time: 1.29 s\n"
     ]
    }
   ],
   "source": [
    "%%time\n",
    "primos = funcion_primos(200_000)\n",
    "len(primos)"
   ]
  },
  {
   "cell_type": "code",
   "execution_count": 99,
   "metadata": {},
   "outputs": [
    {
     "name": "stdout",
     "output_type": "stream",
     "text": [
      "cantidad: 41538\n",
      "(2, 3, 5, 7, 11) ... (499943, 499957, 499969, 499973, 499979)\n",
      "CPU times: user 7.45 s, sys: 17 ms, total: 7.47 s\n",
      "Wall time: 7.6 s\n"
     ]
    }
   ],
   "source": [
    "%%time\n",
    "primos = funcion_primos(500_000)\n",
    "len(primos)"
   ]
  },
  {
   "cell_type": "code",
   "execution_count": 101,
   "metadata": {},
   "outputs": [
    {
     "name": "stdout",
     "output_type": "stream",
     "text": [
      "cantidad: 78498\n",
      "(2, 3, 5, 7, 11) ... (999953, 999959, 999961, 999979, 999983)\n",
      "CPU times: user 28.8 s, sys: 91 ms, total: 28.9 s\n",
      "Wall time: 29.5 s\n"
     ]
    }
   ],
   "source": [
    "%%time\n",
    "numeros_primos = funcion_primos(1_000_000)\n",
    "len(numeros_primos)"
   ]
  },
  {
   "cell_type": "code",
   "execution_count": 102,
   "metadata": {},
   "outputs": [
    {
     "name": "stdout",
     "output_type": "stream",
     "text": [
      "cantidad: 148933\n",
      "(2, 3, 5, 7, 11) ... (1999891, 1999957, 1999969, 1999979, 1999993)\n",
      "CPU times: user 1min 53s, sys: 491 ms, total: 1min 53s\n",
      "Wall time: 1min 56s\n"
     ]
    }
   ],
   "source": [
    "%%time\n",
    "numeros_primos = funcion_primos(2_000_000)\n",
    "len(numeros_primos)"
   ]
  },
  {
   "cell_type": "code",
   "execution_count": 103,
   "metadata": {},
   "outputs": [
    {
     "name": "stdout",
     "output_type": "stream",
     "text": [
      "cantidad: 148933\n",
      "(2, 3, 5, 7, 11) ... (1999891, 1999957, 1999969, 1999979, 1999993)\n"
     ]
    },
    {
     "data": {
      "text/plain": [
       "148933"
      ]
     },
     "execution_count": 103,
     "metadata": {},
     "output_type": "execute_result"
    }
   ],
   "source": [
    "primos = funcion_primos(2_000_000)\n",
    "len(primos)"
   ]
  },
  {
   "cell_type": "code",
   "execution_count": null,
   "metadata": {},
   "outputs": [],
   "source": []
  },
  {
   "cell_type": "code",
   "execution_count": 138,
   "metadata": {},
   "outputs": [
    {
     "name": "stdout",
     "output_type": "stream",
     "text": [
      "(n, p) (5000, 48611)\n",
      "7037 1000084366\n"
     ]
    }
   ],
   "source": [
    "largo = len(primos)\n",
    "COTA = 1_000_000_000\n",
    "for n in range(1, largo):\n",
    "    p = primos[n-1]\n",
    "    a = (p-1)**n\n",
    "    b = (p+1)**n\n",
    "    r = (a+b) % (p**2)\n",
    "    if r > COTA:\n",
    "        print(n, r)\n",
    "        break\n",
    "    if n % 5_000 == 0:\n",
    "        print(\"(n, p)\", (n, p))"
   ]
  },
  {
   "cell_type": "code",
   "execution_count": 140,
   "metadata": {},
   "outputs": [
    {
     "name": "stdout",
     "output_type": "stream",
     "text": [
      "(n, p) (5000, 48611) \t\t 0:00:02.781271\n",
      "(n, p) (10000, 104729) \t\t 0:00:17.995094\n",
      "(n, p) (15000, 163841) \t\t 0:00:53.224410\n",
      "(n, p) (20000, 224737) \t\t 0:01:55.806311\n",
      "21035 10001595590\n"
     ]
    }
   ],
   "source": [
    "INICIO = dt.datetime.now()\n",
    "largo = len(primos)\n",
    "COTA = 10_000_000_000\n",
    "for n in range(1, largo):\n",
    "    p = primos[n-1]\n",
    "    a = (p-1)**n\n",
    "    b = (p+1)**n\n",
    "    r = (a+b) % (p**2)\n",
    "    if r > COTA:\n",
    "        print(n, r)\n",
    "        break\n",
    "    if n % 5_000 == 0:\n",
    "        print(\"(n, p)\", (n, p), \"\\t\\t\", dt.datetime.now() - INICIO)"
   ]
  },
  {
   "cell_type": "code",
   "execution_count": null,
   "metadata": {},
   "outputs": [],
   "source": []
  }
 ],
 "metadata": {
  "kernelspec": {
   "display_name": "Python 3",
   "language": "python",
   "name": "python3"
  },
  "language_info": {
   "codemirror_mode": {
    "name": "ipython",
    "version": 3
   },
   "file_extension": ".py",
   "mimetype": "text/x-python",
   "name": "python",
   "nbconvert_exporter": "python",
   "pygments_lexer": "ipython3",
   "version": "3.6.7"
  }
 },
 "nbformat": 4,
 "nbformat_minor": 2
}
