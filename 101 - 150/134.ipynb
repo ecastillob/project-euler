{
 "cells": [
  {
   "cell_type": "code",
   "execution_count": 1,
   "metadata": {},
   "outputs": [
    {
     "name": "stdout",
     "output_type": "stream",
     "text": [
      "Collecting Cython\n",
      "\u001b[?25l  Downloading https://files.pythonhosted.org/packages/d8/58/2deb24de3c10cc4c0f09639b46f4f4b50059f0fdc785128a57dd9fdce026/Cython-0.29.14-cp37-cp37m-manylinux1_x86_64.whl (2.1MB)\n",
      "\u001b[K     |████████████████████████████████| 2.1MB 3.5MB/s eta 0:00:01\n",
      "\u001b[?25hInstalling collected packages: Cython\n",
      "Successfully installed Cython-0.29.14\n"
     ]
    }
   ],
   "source": [
    "!pip install Cython"
   ]
  },
  {
   "cell_type": "code",
   "execution_count": 1,
   "metadata": {},
   "outputs": [],
   "source": [
    "%load_ext Cython"
   ]
  },
  {
   "cell_type": "code",
   "execution_count": 2,
   "metadata": {},
   "outputs": [],
   "source": [
    "%%cython --compile-args=-O3 --force\n",
    "\n",
    "from libc.math cimport sqrt\n",
    "from array import array\n",
    "from cpython cimport array as c_array\n",
    "cimport cython\n",
    "\n",
    "\n",
    "@cython.boundscheck(False)\n",
    "@cython.wraparound(False)\n",
    "cdef cy_es_primo_simple(unsigned int N):\n",
    "    cdef unsigned int extremo, i\n",
    "    es = True\n",
    "    extremo = (N // 2)+1\n",
    "    for i in range(3, extremo, 2):\n",
    "        if N % i == 0:\n",
    "            es = False\n",
    "            break\n",
    "    return es\n",
    "\n",
    "\n",
    "@cython.boundscheck(False)\n",
    "@cython.wraparound(False)\n",
    "cdef cy_siguiente_primo(i):\n",
    "    es = False\n",
    "    otro_primo = i\n",
    "    while not es:\n",
    "        if cy_es_primo_simple(i):\n",
    "            otro_primo = i\n",
    "            break\n",
    "        i += 2\n",
    "    return otro_primo\n",
    "\n",
    "\n",
    "#@cython.boundscheck(False)\n",
    "#@cython.wraparound(False)\n",
    "cdef cy_funcion3(unsigned int N):\n",
    "    cdef int i, total, index, p1, p2, largo, step\n",
    "    cdef unsigned long long suma, n\n",
    "    primos = tuple([i for i in range(5, N, 2) if cy_es_primo_simple(i)] + [cy_siguiente_primo(N+1)])\n",
    "    total = len(primos)\n",
    "    print(\"total:\", total)\n",
    "    print(primos[:10], \"...\", primos[-5:])\n",
    "    suma = 0\n",
    "    p1, p2, = 0, 0\n",
    "    for index in range(total-1):\n",
    "        p1 = primos[index]\n",
    "        p2 = primos[index+1]\n",
    "        largo = len(f'{p1}')\n",
    "        step = 10 ** largo\n",
    "        n = p1 + step\n",
    "        while n % p2 != 0:\n",
    "            n += step\n",
    "        # print(p1, p2, n)\n",
    "        suma += n\n",
    "    print(\"p1, p2, n:\", p1, p2, n)\n",
    "    print(\"suma:\", suma)\n",
    "    return suma\n",
    "\n",
    "\n",
    "def funcion3(N):\n",
    "    return cy_funcion3(N)"
   ]
  },
  {
   "cell_type": "code",
   "execution_count": 3,
   "metadata": {},
   "outputs": [
    {
     "name": "stdout",
     "output_type": "stream",
     "text": [
      "total: 9591\n",
      "(5, 7, 11, 13, 17, 19, 23, 29, 31, 37) ... (99961, 99971, 99989, 99991, 100003)\n",
      "p1, p2, n: 99991 100003 9999999991\n",
      "suma: 22415801611632\n",
      "resultado (14) = 22415801611632\n",
      "CPU times: user 2.47 s, sys: 0 ns, total: 2.47 s\n",
      "Wall time: 2.53 s\n"
     ]
    }
   ],
   "source": [
    "%%time\n",
    "resultado = funcion3(100_000)\n",
    "print(\"resultado ({}) = {}\".format(len(str(resultado)), resultado))"
   ]
  },
  {
   "cell_type": "code",
   "execution_count": 4,
   "metadata": {},
   "outputs": [
    {
     "name": "stdout",
     "output_type": "stream",
     "text": [
      "total: 17983\n",
      "(5, 7, 11, 13, 17, 19, 23, 29, 31, 37) ... (199933, 199961, 199967, 199999, 200003)\n",
      "p1, p2, n: 199999 200003 106668199999\n",
      "suma: 649277670815908\n",
      "resultado (15) = 649277670815908\n",
      "CPU times: user 9.4 s, sys: 45.5 ms, total: 9.44 s\n",
      "Wall time: 9.69 s\n"
     ]
    }
   ],
   "source": [
    "%%time\n",
    "resultado = funcion3(200_000)\n",
    "print(\"resultado ({}) = {}\".format(len(str(resultado)), resultado))"
   ]
  },
  {
   "cell_type": "code",
   "execution_count": 5,
   "metadata": {},
   "outputs": [
    {
     "name": "stdout",
     "output_type": "stream",
     "text": [
      "total: 41537\n",
      "(5, 7, 11, 13, 17, 19, 23, 29, 31, 37) ... (499957, 499969, 499973, 499979, 500009)\n",
      "p1, p2, n: 499979 500009 166668499979\n",
      "suma: 4767056648451290\n",
      "resultado (16) = 4767056648451290\n",
      "CPU times: user 53.6 s, sys: 277 ms, total: 53.9 s\n",
      "Wall time: 55.1 s\n"
     ]
    }
   ],
   "source": [
    "%%time\n",
    "resultado = funcion3(500_000)\n",
    "print(\"resultado ({}) = {}\".format(len(str(resultado)), resultado))"
   ]
  },
  {
   "cell_type": "code",
   "execution_count": 6,
   "metadata": {},
   "outputs": [
    {
     "name": "stdout",
     "output_type": "stream",
     "text": [
      "total: 78497\n",
      "(5, 7, 11, 13, 17, 19, 23, 29, 31, 37) ... (999959, 999961, 999979, 999983, 1000003)\n",
      "p1, p2, n: 999983 1000003 666662999983\n",
      "suma: 18613426663617118\n",
      "resultado (17) = 18613426663617118\n",
      "CPU times: user 3min 23s, sys: 1.19 s, total: 3min 24s\n",
      "Wall time: 3min 29s\n"
     ]
    }
   ],
   "source": [
    "%%time\n",
    "resultado = funcion3(1_000_000)\n",
    "print(\"resultado ({}) = {}\".format(len(str(resultado)), resultado))"
   ]
  },
  {
   "cell_type": "code",
   "execution_count": null,
   "metadata": {},
   "outputs": [],
   "source": []
  }
 ],
 "metadata": {
  "kernelspec": {
   "display_name": "Python 3",
   "language": "python",
   "name": "python3"
  },
  "language_info": {
   "codemirror_mode": {
    "name": "ipython",
    "version": 3
   },
   "file_extension": ".py",
   "mimetype": "text/x-python",
   "name": "python",
   "nbconvert_exporter": "python",
   "pygments_lexer": "ipython3",
   "version": "3.7.3"
  }
 },
 "nbformat": 4,
 "nbformat_minor": 4
}
