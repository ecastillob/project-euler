{
 "cells": [
  {
   "cell_type": "raw",
   "metadata": {},
   "source": [
    "The palindromic number 595 is interesting because it can be written as the sum of consecutive squares: \n",
    "    6^2 + 7^2 + 8^2 + 9^2 + 10^2 + 11^2 + 12^2.\n",
    "\n",
    "There are exactly eleven palindromes below one-thousand that can be written as consecutive square sums, \n",
    "and the sum of these palindromes is 4164. \n",
    "Note that 1 = 0^2 + 1^2 has not been included as this problem is concerned with the squares of positive integers.\n",
    "\n",
    "Find the sum of all the numbers less than 10^8 that are both palindromic and can be written as the sum of consecutive squares."
   ]
  },
  {
   "cell_type": "code",
   "execution_count": 1,
   "metadata": {},
   "outputs": [],
   "source": [
    "from math import sqrt"
   ]
  },
  {
   "cell_type": "markdown",
   "metadata": {},
   "source": [
    "# 1"
   ]
  },
  {
   "cell_type": "code",
   "execution_count": 2,
   "metadata": {},
   "outputs": [],
   "source": [
    "def funcion(limite):\n",
    "    contador = 0\n",
    "    palindromos_validos = []\n",
    "    for valor in range(2, limite):\n",
    "        suma = 0\n",
    "        valor_str = str(valor)\n",
    "        if valor_str == valor_str[::-1]:\n",
    "            raiz = int(sqrt(valor))\n",
    "            for i in range(1, raiz):\n",
    "                suma = 0\n",
    "                base = i\n",
    "                while suma <= valor:\n",
    "                    suma_valida = suma\n",
    "                    suma += (base*base)\n",
    "                    base += 1\n",
    "                if suma_valida == valor:\n",
    "                    palindromos_validos.append(valor)\n",
    "                    break\n",
    "    return sum(palindromos_validos)"
   ]
  },
  {
   "cell_type": "code",
   "execution_count": 3,
   "metadata": {},
   "outputs": [
    {
     "name": "stdout",
     "output_type": "stream",
     "text": [
      "CPU times: user 1.81 ms, sys: 61 µs, total: 1.87 ms\n",
      "Wall time: 2.19 ms\n"
     ]
    },
    {
     "data": {
      "text/plain": [
       "4164"
      ]
     },
     "execution_count": 3,
     "metadata": {},
     "output_type": "execute_result"
    }
   ],
   "source": [
    "%%time\n",
    "funcion(10**3)"
   ]
  },
  {
   "cell_type": "code",
   "execution_count": 4,
   "metadata": {},
   "outputs": [
    {
     "name": "stdout",
     "output_type": "stream",
     "text": [
      "CPU times: user 1min 19s, sys: 34.1 ms, total: 1min 19s\n",
      "Wall time: 1min 21s\n"
     ]
    },
    {
     "data": {
      "text/plain": [
       "303800127"
      ]
     },
     "execution_count": 4,
     "metadata": {},
     "output_type": "execute_result"
    }
   ],
   "source": [
    "%%time\n",
    "funcion(10**7)"
   ]
  },
  {
   "cell_type": "markdown",
   "metadata": {},
   "source": [
    "# Cython"
   ]
  },
  {
   "cell_type": "markdown",
   "metadata": {},
   "source": [
    "## 1"
   ]
  },
  {
   "cell_type": "code",
   "execution_count": 5,
   "metadata": {},
   "outputs": [],
   "source": [
    "%load_ext Cython"
   ]
  },
  {
   "cell_type": "code",
   "execution_count": 6,
   "metadata": {},
   "outputs": [],
   "source": [
    "%%cython --compile-args=-O3 --force\n",
    "\n",
    "from libc.math cimport sqrt\n",
    "cimport cython\n",
    "\n",
    "\n",
    "@cython.boundscheck(False)  # Deactivate bounds checking\n",
    "@cython.wraparound(False)   # Deactivate negative indexing.\n",
    "def cy_funcion(LIMITE):\n",
    "    # NO es: 166\n",
    "    cdef unsigned int limite, contador, valor, suma, raiz, i, base, suma_valida\n",
    "    limite = LIMITE\n",
    "    contador = 0\n",
    "    palindromos_validos = []\n",
    "    for valor in range(2, limite):\n",
    "        valor_str = str(valor)\n",
    "        if valor_str == valor_str[::-1]:\n",
    "            raiz = int(sqrt(valor))\n",
    "            for i in range(1, raiz):\n",
    "                suma = 0\n",
    "                base = i\n",
    "                while suma <= valor:\n",
    "                    suma_valida = suma\n",
    "                    suma += (base*base)\n",
    "                    base += 1\n",
    "                if suma_valida == valor:\n",
    "                    palindromos_validos.append(valor)\n",
    "                    break\n",
    "    return sum(palindromos_validos)"
   ]
  },
  {
   "cell_type": "code",
   "execution_count": 7,
   "metadata": {},
   "outputs": [
    {
     "name": "stdout",
     "output_type": "stream",
     "text": [
      "CPU times: user 306 µs, sys: 0 ns, total: 306 µs\n",
      "Wall time: 310 µs\n"
     ]
    },
    {
     "data": {
      "text/plain": [
       "4164"
      ]
     },
     "execution_count": 7,
     "metadata": {},
     "output_type": "execute_result"
    }
   ],
   "source": [
    "%%time\n",
    "cy_funcion(10**3)  # 4164"
   ]
  },
  {
   "cell_type": "code",
   "execution_count": 8,
   "metadata": {},
   "outputs": [
    {
     "name": "stdout",
     "output_type": "stream",
     "text": [
      "CPU times: user 3.93 s, sys: 15 ms, total: 3.94 s\n",
      "Wall time: 4.15 s\n"
     ]
    },
    {
     "data": {
      "text/plain": [
       "303800127"
      ]
     },
     "execution_count": 8,
     "metadata": {},
     "output_type": "execute_result"
    }
   ],
   "source": [
    "%%time\n",
    "cy_funcion(10**7)"
   ]
  },
  {
   "cell_type": "code",
   "execution_count": 9,
   "metadata": {},
   "outputs": [
    {
     "name": "stdout",
     "output_type": "stream",
     "text": [
      "CPU times: user 36.7 s, sys: 131 ms, total: 36.8 s\n",
      "Wall time: 38.6 s\n"
     ]
    },
    {
     "data": {
      "text/plain": [
       "2906969179"
      ]
     },
     "execution_count": 9,
     "metadata": {},
     "output_type": "execute_result"
    }
   ],
   "source": [
    "%%time\n",
    "cy_funcion(10**8)  # 2906969179"
   ]
  },
  {
   "cell_type": "code",
   "execution_count": null,
   "metadata": {},
   "outputs": [],
   "source": []
  }
 ],
 "metadata": {
  "kernelspec": {
   "display_name": "Python 3",
   "language": "python",
   "name": "python3"
  },
  "language_info": {
   "codemirror_mode": {
    "name": "ipython",
    "version": 3
   },
   "file_extension": ".py",
   "mimetype": "text/x-python",
   "name": "python",
   "nbconvert_exporter": "python",
   "pygments_lexer": "ipython3",
   "version": "3.6.7"
  }
 },
 "nbformat": 4,
 "nbformat_minor": 2
}
